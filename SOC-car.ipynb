{
 "cells": [
  {
   "cell_type": "code",
   "execution_count": 54,
   "id": "420168c8",
   "metadata": {},
   "outputs": [],
   "source": [
    "import itertools\n",
    "import random\n",
    "import numpy as np"
   ]
  },
  {
   "cell_type": "code",
   "execution_count": 55,
   "id": "53900b64",
   "metadata": {},
   "outputs": [],
   "source": [
    "#未到达终点前SOC的计算函数\n",
    "def clcSM(S0, P, Delta, N, M):\n",
    "    SM = S0.copy()\n",
    "    for indRsq in range(M):\n",
    "        for indEV in range(N):\n",
    "            #print(SM[indEV])\n",
    "            X=SM[indEV]\n",
    "            Y=Delta[P[indEV]-1]\n",
    "            #print(X-Y)\n",
    "            SM[indEV]=X-Y\n",
    "            print(X)\n",
    "            print(Y)\n",
    "            #print(type(SM[indEV]))\n",
    "            print(SM[indEV])\n",
    "    return SM\n"
   ]
  },
  {
   "cell_type": "code",
   "execution_count": 56,
   "id": "b19e47be",
   "metadata": {},
   "outputs": [],
   "source": [
    "#最后一个位置进行SOC排序\n",
    "def socOrderForm(SOC,form):\n",
    "    sorted_indices = np.argsort(SOC)\n",
    "    sorted_SOC = SOC[sorted_indices]\n",
    "    sorted_input_indices = indices[sorted_indices]\n",
    "    return sorted_input_indices "
   ]
  },
  {
   "cell_type": "code",
   "execution_count": 57,
   "id": "a6f4a79c",
   "metadata": {},
   "outputs": [
    {
     "name": "stdout",
     "output_type": "stream",
     "text": [
      "<class 'numpy.ndarray'>\n",
      "24\n"
     ]
    }
   ],
   "source": [
    "N = 4  #汽车的数量\n",
    "M=5    #可重排序地址数量\n",
    "forms = list(itertools.permutations(range(N, 0, -1)))  #4辆车的全排列 所有可能\n",
    "formaction = np.array(forms)  #写成矩阵的形式\n",
    "\n",
    "formaction=formaction.T  #矩阵的转置操作\n",
    "numAct=formaction.shape[1]  #转置矩阵的列数，即N的全排列的所有可能数\n",
    "\n",
    "print(type(formaction))\n",
    "print(numAct)"
   ]
  },
  {
   "cell_type": "code",
   "execution_count": 58,
   "id": "396bfec2",
   "metadata": {},
   "outputs": [],
   "source": [
    "state=np.array([1,1,1,1,6])\n",
    "#SOC1=state[0]\n",
    "# SOC2=state[1]\n",
    "# SOC3=state[2]\n",
    "# SOC4=state[3]\n",
    "SOC=[]\n",
    "for item in range(4):\n",
    "    SOC.append(float(state[item]))\n",
    "#SOC=state[:N]   #得到state前N个元素 赋值给SOC\n",
    "remRsq=state[N]   #所剩余的可重排序地点数\n",
    "col=M-remRsq+1    #col为当下处于第几个重排序地点"
   ]
  },
  {
   "cell_type": "code",
   "execution_count": 59,
   "id": "1ea8267a",
   "metadata": {},
   "outputs": [],
   "source": [
    "Action = random.choice(range(formaction.shape[1]))  # 选择一个随机的列索引(随机选择一个动作)\n",
    "form = formaction[:,Action]  # 选择对应的列(选择该动作对应的排列)"
   ]
  },
  {
   "cell_type": "code",
   "execution_count": 60,
   "id": "b320843f",
   "metadata": {},
   "outputs": [],
   "source": [
    "#检查所选择的动作是否在对应的动作存储矩阵中\n",
    "if Action not in range(1,numAct+1):\n",
    "    raise ValueError('Action must be in the possible action set.')"
   ]
  },
  {
   "cell_type": "code",
   "execution_count": 61,
   "id": "fe2035cf",
   "metadata": {},
   "outputs": [],
   "source": [
    "#定义Delta\n",
    "Delta = np.array([[0.1302, 0.1334, 0.2522, 0.1868, 0.0787],\n",
    "                  [0.1224, 0.1255, 0.2372, 0.1756, 0.0741],\n",
    "                  [0.1170, 0.1199, 0.2266, 0.1678, 0.0708],\n",
    "                  [0.1170, 0.1199, 0.2266, 0.1678, 0.0708]])"
   ]
  },
  {
   "cell_type": "code",
   "execution_count": 62,
   "id": "d297b4e1",
   "metadata": {
    "scrolled": true
   },
   "outputs": [
    {
     "name": "stdout",
     "output_type": "stream",
     "text": [
      "1.0\n",
      "0.1302\n",
      "0.8698\n",
      "1.0\n",
      "0.1224\n",
      "0.8776\n",
      "1.0\n",
      "0.117\n",
      "0.883\n",
      "1.0\n",
      "0.117\n",
      "0.883\n"
     ]
    }
   ],
   "source": [
    "SOC=clcSM(SOC,form,Delta[:,col],N,1)   #计算SOC在第一个重排序位置后的SOC值\n",
    "\n",
    "remRsq = remRsq - 1;#剩余可重排序位置\n",
    "state=np.append(SOC,remRsq)\n",
    "\n",
    "NextObs=state;         #将新状态更新为下一状态\n",
    "IsDone = remRsq == 1;  #当剩余重排序位置为0时，则完成\n",
    "if IsDone==1:\n",
    "    form_M=socOrderForm(SOC);#最后一次为基于SOC重排序\n",
    "    SOC_M=clcSM(SOC,form_M,Delta[:,M],N,1)\n",
    "    Reward=-np.std(SOC_M,axis=0)\n",
    "else:\n",
    "    Reward=0"
   ]
  },
  {
   "cell_type": "code",
   "execution_count": null,
   "id": "3094c385",
   "metadata": {},
   "outputs": [],
   "source": []
  },
  {
   "cell_type": "code",
   "execution_count": 9,
   "id": "0daef4ba",
   "metadata": {},
   "outputs": [
    {
     "ename": "SyntaxError",
     "evalue": "invalid syntax (279447608.py, line 30)",
     "output_type": "error",
     "traceback": [
      "\u001b[1;36m  File \u001b[1;32m\"C:\\Users\\HP\\AppData\\Local\\Temp\\ipykernel_32516\\279447608.py\"\u001b[1;36m, line \u001b[1;32m30\u001b[0m\n\u001b[1;33m    self.rewards[5] = -100*\u001b[0m\n\u001b[1;37m                           ^\u001b[0m\n\u001b[1;31mSyntaxError\u001b[0m\u001b[1;31m:\u001b[0m invalid syntax\n"
     ]
    }
   ],
   "source": [
    "import logging\n",
    "import numpy\n",
    "import random\n",
    "from gym import spaces\n",
    "import gym\n",
    "\n",
    "logger = logging.getLogger(__name__)\n",
    "\n",
    "class DQNSOC(gym.Env):\n",
    "    metadata = {\n",
    "        'render.modes': ['human', 'rgb_array'],\n",
    "        'video.frames_per_second': 2\n",
    "    }\n",
    "\n",
    "    def __init__(self):\n",
    "\n",
    "        self.states = [1,1,1,1,6] #状态空间\n",
    "        \n",
    "        self.terminate_states = dict()  #终止状态为字典格式\n",
    "        self.terminate_states[4] = 1\n",
    "\n",
    "        self.actions = [1,2,3,4]\n",
    "\n",
    "        self.rewards = dict();        #回报的数据结构为字典\n",
    "        self.rewards[0] = 0\n",
    "        self.rewards[1] = 0\n",
    "        self.rewards[2] = 0\n",
    "        self.rewards[3] = 0\n",
    "        self.rewards[4] = 0\n",
    "        self.rewards[5] = -100*\n",
    "\n",
    "        self.t = dict();             #状态转移的数据格式为字典\n",
    "        \n",
    "\n",
    "        self.gamma = 0.8         #折扣因子\n",
    "        self.viewer = None\n",
    "        self.state = None\n",
    "\n",
    "    def getTerminal(self):\n",
    "        return self.terminate_states\n",
    "\n",
    "    def getGamma(self):\n",
    "        return self.gamma\n",
    "\n",
    "    def getStates(self):\n",
    "        return self.states\n",
    "\n",
    "    def getAction(self):\n",
    "        return self.actions\n",
    "    def getTerminate_states(self):\n",
    "        return self.terminate_states\n",
    "    def setAction(self,s):\n",
    "        self.state=s\n",
    "\n",
    "    def _step(self, action):\n",
    "        #系统当前状态\n",
    "        state = self.state\n",
    "        if state in self.terminate_states:\n",
    "            return state, 0, True, {}\n",
    "        key = \"%d_%s\"%(state, action)   #将状态和动作组成字典的键值\n",
    "\n",
    "        #状态转移\n",
    "        if key in self.t:\n",
    "            next_state = 1-state\n",
    "        else:\n",
    "            next_state = state\n",
    "        self.state = next_state\n",
    "\n",
    "        is_terminal = False\n",
    "\n",
    "        if next_state in self.terminate_states:\n",
    "            is_terminal = True\n",
    "\n",
    "        if key not in self.rewards:\n",
    "            r = 0.0\n",
    "        else:\n",
    "            r = self.rewards[key]\n",
    "\n",
    "\n",
    "        return next_state, r,is_terminal,{}\n",
    "    def _reset(self):\n",
    "        self.state = self.states[int(random.random() * len(self.states))]\n",
    "        return self.state\n",
    "    def render(self, mode='human', close=False):\n",
    "        \n",
    "\n",
    "        \n",
    "\n",
    "\n",
    "\n"
   ]
  },
  {
   "cell_type": "code",
   "execution_count": null,
   "id": "06d9eb1f",
   "metadata": {},
   "outputs": [],
   "source": []
  }
 ],
 "metadata": {
  "kernelspec": {
   "display_name": "Python [conda env:pytorch]",
   "language": "python",
   "name": "conda-env-pytorch-py"
  },
  "language_info": {
   "codemirror_mode": {
    "name": "ipython",
    "version": 3
   },
   "file_extension": ".py",
   "mimetype": "text/x-python",
   "name": "python",
   "nbconvert_exporter": "python",
   "pygments_lexer": "ipython3",
   "version": "3.7.16"
  }
 },
 "nbformat": 4,
 "nbformat_minor": 5
}
